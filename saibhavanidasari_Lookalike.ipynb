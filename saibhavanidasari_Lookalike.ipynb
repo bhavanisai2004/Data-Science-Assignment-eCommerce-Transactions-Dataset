{
 "cells": [
  {
   "cell_type": "code",
   "execution_count": 1,
   "id": "57511ec1",
   "metadata": {},
   "outputs": [
    {
     "name": "stdout",
     "output_type": "stream",
     "text": [
      "Lookalike model created successfully. 'Lookalike.csv' has been saved.\n"
     ]
    }
   ],
   "source": [
    "import pandas as pd\n",
    "import numpy as np\n",
    "from sklearn.metrics.pairwise import cosine_similarity\n",
    "\n",
    "# Load datasets\n",
    "customers = pd.read_csv(r\"C:\\Users\\USER\\Desktop\\Datasets\\Customers.csv\")\n",
    "products = pd.read_csv(r\"C:\\Users\\USER\\Desktop\\Datasets\\Products.csv\")\n",
    "transactions = pd.read_csv(r\"C:\\Users\\USER\\Desktop\\Datasets\\Transactions.csv\")\n",
    "\n",
    "# Data Preprocessing\n",
    "# Merge transactions with product details (e.g., Category, Price)\n",
    "transaction_data = pd.merge(transactions, products[['ProductID', 'Category', 'Price']], on='ProductID', how='left')\n",
    "\n",
    "# Feature engineering: Aggregate data at the customer level\n",
    "customer_profile = transaction_data.groupby('CustomerID').agg(\n",
    "    total_spend=('TotalValue', 'sum'),\n",
    "    transaction_count=('TransactionID', 'count'),\n",
    "    average_spend=('TotalValue', 'mean')\n",
    ").reset_index()\n",
    "\n",
    "# Optional: You can add other features related to products (Category, Price) if needed.\n",
    "# For simplicity, we'll proceed with the basic features first.\n",
    "\n",
    "# Feature Engineering: Create a feature matrix for customer profiles\n",
    "profile_features = customer_profile[['CustomerID', 'total_spend', 'transaction_count', 'average_spend']]\n",
    "\n",
    "# Create a similarity matrix using cosine similarity based on customer profiles\n",
    "similarity_matrix = cosine_similarity(profile_features.drop('CustomerID', axis=1))\n",
    "\n",
    "# Convert the similarity matrix into a DataFrame for better readability\n",
    "similarity_df = pd.DataFrame(similarity_matrix, index=profile_features['CustomerID'], columns=profile_features['CustomerID'])\n",
    "\n",
    "# Get the top 3 most similar customers for each of the first 20 customers (C0001 - C0020)\n",
    "lookalikes = {}\n",
    "for customer_id in profile_features['CustomerID'].iloc[:20]:\n",
    "    # Sort the customers based on similarity score and get the top 3\n",
    "    top_3_similar_customers = similarity_df[customer_id].sort_values(ascending=False).iloc[1:4]  # Exclude the customer itself\n",
    "    lookalikes[customer_id] = top_3_similar_customers.index.tolist()\n",
    "\n",
    "# Create the 'Lookalike.csv' file containing the customer ID and top 3 lookalikes with similarity scores\n",
    "lookalike_data = []\n",
    "for customer_id, similar_customers in lookalikes.items():\n",
    "    for similar_customer in similar_customers:\n",
    "        similarity_score = similarity_df.loc[customer_id, similar_customer]\n",
    "        lookalike_data.append([customer_id, similar_customer, similarity_score])\n",
    "\n",
    "lookalike_df = pd.DataFrame(lookalike_data, columns=['CustomerID', 'LookalikeCustomerID', 'SimilarityScore'])\n",
    "\n",
    "# Save the lookalike data to 'Lookalike.csv'\n",
    "lookalike_df.to_csv(r\"C:\\Users\\USER\\Desktop\\Datasets\\Lookalike.csv\", index=False)\n",
    "\n",
    "print(\"Lookalike model created successfully. 'Lookalike.csv' has been saved.\")\n"
   ]
  },
  {
   "cell_type": "code",
   "execution_count": null,
   "id": "8b3dd8a9",
   "metadata": {},
   "outputs": [],
   "source": []
  }
 ],
 "metadata": {
  "kernelspec": {
   "display_name": "Python 3 (ipykernel)",
   "language": "python",
   "name": "python3"
  },
  "language_info": {
   "codemirror_mode": {
    "name": "ipython",
    "version": 3
   },
   "file_extension": ".py",
   "mimetype": "text/x-python",
   "name": "python",
   "nbconvert_exporter": "python",
   "pygments_lexer": "ipython3",
   "version": "3.11.5"
  }
 },
 "nbformat": 4,
 "nbformat_minor": 5
}
